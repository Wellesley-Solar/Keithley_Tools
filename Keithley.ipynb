{
 "cells": [
  {
   "cell_type": "code",
   "execution_count": null,
   "metadata": {},
   "outputs": [],
   "source": [
    "from k2400ser import *\n",
    "brad = K2400ser('/dev/ttyUSB0')#, ilimit=1,vlimit=1,function=':SOURCE:FUNCTION VOLTAGE')"
   ]
  },
  {
   "cell_type": "code",
   "execution_count": 419,
   "metadata": {},
   "outputs": [],
   "source": [
    "import serial, string, time, csv\n",
    "import numpy as np\n",
    "import matplotlib.pyplot as plt\n",
    "%matplotlib notebook\n",
    "\n",
    "keith=serial.Serial('/dev/ttyUSB0', baudrate = 57600)"
   ]
  },
  {
   "cell_type": "code",
   "execution_count": 396,
   "metadata": {},
   "outputs": [],
   "source": [
    "def read(self):\n",
    "    temp_read=str(self.read(self.in_waiting))\n",
    "    pos_b=temp_read.find(\"b'\")+2\n",
    "    pos_r=temp_read.find(\"\\\\r'\")\n",
    "    \n",
    "    return temp_read[pos_b:pos_r]\n",
    "    "
   ]
  },
  {
   "cell_type": "code",
   "execution_count": 142,
   "metadata": {},
   "outputs": [],
   "source": [
    "def write(self, command):\n",
    "        self.write(('{0!s}\\r'.format(command)).encode())"
   ]
  },
  {
   "cell_type": "code",
   "execution_count": 143,
   "metadata": {},
   "outputs": [],
   "source": [
    "write(keith,\"SOURCE:FUNCTION voltage\")"
   ]
  },
  {
   "cell_type": "code",
   "execution_count": 144,
   "metadata": {},
   "outputs": [],
   "source": [
    "write(keith,':SENSE:CURRENT:PROTECTION 1.0E-0')"
   ]
  },
  {
   "cell_type": "code",
   "execution_count": 163,
   "metadata": {},
   "outputs": [],
   "source": [
    "write(keith,':SENSE:CURRENT:PROTECTION:LEVEL?')"
   ]
  },
  {
   "cell_type": "code",
   "execution_count": 164,
   "metadata": {},
   "outputs": [
    {
     "data": {
      "text/plain": [
       "b'1.000000E+00\\r'"
      ]
     },
     "execution_count": 164,
     "metadata": {},
     "output_type": "execute_result"
    }
   ],
   "source": [
    "read(keith)"
   ]
  },
  {
   "cell_type": "code",
   "execution_count": 179,
   "metadata": {},
   "outputs": [
    {
     "data": {
      "text/plain": [
       "0"
      ]
     },
     "execution_count": 179,
     "metadata": {},
     "output_type": "execute_result"
    }
   ],
   "source": [
    "keith.in_waiting"
   ]
  },
  {
   "cell_type": "code",
   "execution_count": null,
   "metadata": {},
   "outputs": [],
   "source": []
  },
  {
   "cell_type": "code",
   "execution_count": 180,
   "metadata": {},
   "outputs": [
    {
     "data": {
      "text/plain": [
       "0"
      ]
     },
     "execution_count": 180,
     "metadata": {},
     "output_type": "execute_result"
    }
   ],
   "source": [
    "keith.in_waiting"
   ]
  },
  {
   "cell_type": "code",
   "execution_count": 181,
   "metadata": {},
   "outputs": [
    {
     "data": {
      "text/plain": [
       "b''"
      ]
     },
     "execution_count": 181,
     "metadata": {},
     "output_type": "execute_result"
    }
   ],
   "source": [
    "keith.read(keith.in_waiting)"
   ]
  },
  {
   "cell_type": "code",
   "execution_count": 207,
   "metadata": {},
   "outputs": [],
   "source": [
    "write(keith,':SOURCE:VOLTAGE {0!s}'.format(.1))\n",
    "write(keith,':MEASURE:CURRENT?')\n",
    "# write(keith,':MEASURE:RAD?')\n"
   ]
  },
  {
   "cell_type": "code",
   "execution_count": 195,
   "metadata": {},
   "outputs": [],
   "source": [
    "write(keith,':OUTPUT ON')"
   ]
  },
  {
   "cell_type": "code",
   "execution_count": 198,
   "metadata": {},
   "outputs": [],
   "source": [
    "write(keith,':MEASURE:READ')"
   ]
  },
  {
   "cell_type": "code",
   "execution_count": 214,
   "metadata": {},
   "outputs": [],
   "source": [
    "write(keith,':OUTPUT OFF')"
   ]
  },
  {
   "cell_type": "code",
   "execution_count": 551,
   "metadata": {},
   "outputs": [],
   "source": [
    "write(keith,':SOUR:VOLT:RANG .15')"
   ]
  },
  {
   "cell_type": "code",
   "execution_count": 208,
   "metadata": {},
   "outputs": [],
   "source": [
    "write(keith,':READ?')"
   ]
  },
  {
   "cell_type": "code",
   "execution_count": 282,
   "metadata": {},
   "outputs": [],
   "source": [
    "# write(keith,'*RST')\n",
    "write(keith,':SOUR:FUNC VOLT')\n",
    "write(keith,':SOUR:VOLT:MODE FIXED')\n",
    "write(keith,':SOUR:VOLT:RANG 3')\n",
    "write(keith,':SOUR:VOLT:LEV '+str(1.5))\n",
    "write(keith,':SENS:CURR:PROT 10E-3')\n",
    "write(keith,':SENS:FUNC \"CURR\"')\n",
    "write(keith,':SENS:CURR:RANG 10E-3')\n",
    "write(keith,':FORM:ELEM CURR')\n",
    "write(keith,':OUTPUT ON')\n",
    "write(keith,':READ?')\n",
    "write(keith,':OUTPUT OFF')"
   ]
  },
  {
   "cell_type": "code",
   "execution_count": 400,
   "metadata": {},
   "outputs": [
    {
     "data": {
      "text/plain": [
       "'+1.003522E-04'"
      ]
     },
     "execution_count": 400,
     "metadata": {},
     "output_type": "execute_result"
    }
   ],
   "source": [
    "read(keith)"
   ]
  },
  {
   "cell_type": "code",
   "execution_count": 374,
   "metadata": {},
   "outputs": [],
   "source": [
    "write(keith,':SOUR:VOLT:LEV '+str(0.1211))"
   ]
  },
  {
   "cell_type": "code",
   "execution_count": 367,
   "metadata": {},
   "outputs": [],
   "source": [
    "write(keith,':OUTPUT ON')"
   ]
  },
  {
   "cell_type": "code",
   "execution_count": 372,
   "metadata": {},
   "outputs": [],
   "source": [
    "write(keith,':READ?')"
   ]
  },
  {
   "cell_type": "code",
   "execution_count": 370,
   "metadata": {},
   "outputs": [],
   "source": [
    "write(keith,':MEASURE:CURRENT?')"
   ]
  },
  {
   "cell_type": "code",
   "execution_count": 614,
   "metadata": {},
   "outputs": [],
   "source": [
    "Vin=np.linspace(-2,2,100)\n",
    "Iout=[]\n",
    "write(keith,':SOUR:FUNC VOLT')\n",
    "write(keith,':SOUR:VOLT:MODE FIXED')\n",
    "write(keith,':SOUR:VOLT:RANG .5')\n",
    "write(keith,':SENS:CURR:PROT 10E-1')\n",
    "write(keith,':SENS:FUNC \"CURR\"')\n",
    "write(keith,':SENS:CURR:RANG 10E-1')\n",
    "write(keith,':FORM:ELEM CURR')\n",
    "write(keith,':OUTPut ON')\n",
    "read(keith)\n",
    "for v in Vin:\n",
    "#     print(str(v))\n",
    "    \n",
    "    write(keith,':SOUR:VOLT:LEV '+str(v))\n",
    "#     time.sleep(1)\n",
    "    write(keith,':READ?')\n",
    "    time.sleep(.5)\n",
    "    Iout.append(read(keith))\n",
    "#     time.sleep(.5)\n",
    "    \n",
    "write(keith,':OUTPUT OFF')"
   ]
  },
  {
   "cell_type": "code",
   "execution_count": 615,
   "metadata": {},
   "outputs": [],
   "source": [
    "Iout=[float(i) for i in Iout]"
   ]
  },
  {
   "cell_type": "code",
   "execution_count": 616,
   "metadata": {},
   "outputs": [
    {
     "data": {
      "application/javascript": [
       "/* Put everything inside the global mpl namespace */\n",
       "window.mpl = {};\n",
       "\n",
       "\n",
       "mpl.get_websocket_type = function() {\n",
       "    if (typeof(WebSocket) !== 'undefined') {\n",
       "        return WebSocket;\n",
       "    } else if (typeof(MozWebSocket) !== 'undefined') {\n",
       "        return MozWebSocket;\n",
       "    } else {\n",
       "        alert('Your browser does not have WebSocket support.' +\n",
       "              'Please try Chrome, Safari or Firefox ≥ 6. ' +\n",
       "              'Firefox 4 and 5 are also supported but you ' +\n",
       "              'have to enable WebSockets in about:config.');\n",
       "    };\n",
       "}\n",
       "\n",
       "mpl.figure = function(figure_id, websocket, ondownload, parent_element) {\n",
       "    this.id = figure_id;\n",
       "\n",
       "    this.ws = websocket;\n",
       "\n",
       "    this.supports_binary = (this.ws.binaryType != undefined);\n",
       "\n",
       "    if (!this.supports_binary) {\n",
       "        var warnings = document.getElementById(\"mpl-warnings\");\n",
       "        if (warnings) {\n",
       "            warnings.style.display = 'block';\n",
       "            warnings.textContent = (\n",
       "                \"This browser does not support binary websocket messages. \" +\n",
       "                    \"Performance may be slow.\");\n",
       "        }\n",
       "    }\n",
       "\n",
       "    this.imageObj = new Image();\n",
       "\n",
       "    this.context = undefined;\n",
       "    this.message = undefined;\n",
       "    this.canvas = undefined;\n",
       "    this.rubberband_canvas = undefined;\n",
       "    this.rubberband_context = undefined;\n",
       "    this.format_dropdown = undefined;\n",
       "\n",
       "    this.image_mode = 'full';\n",
       "\n",
       "    this.root = $('<div/>');\n",
       "    this._root_extra_style(this.root)\n",
       "    this.root.attr('style', 'display: inline-block');\n",
       "\n",
       "    $(parent_element).append(this.root);\n",
       "\n",
       "    this._init_header(this);\n",
       "    this._init_canvas(this);\n",
       "    this._init_toolbar(this);\n",
       "\n",
       "    var fig = this;\n",
       "\n",
       "    this.waiting = false;\n",
       "\n",
       "    this.ws.onopen =  function () {\n",
       "            fig.send_message(\"supports_binary\", {value: fig.supports_binary});\n",
       "            fig.send_message(\"send_image_mode\", {});\n",
       "            if (mpl.ratio != 1) {\n",
       "                fig.send_message(\"set_dpi_ratio\", {'dpi_ratio': mpl.ratio});\n",
       "            }\n",
       "            fig.send_message(\"refresh\", {});\n",
       "        }\n",
       "\n",
       "    this.imageObj.onload = function() {\n",
       "            if (fig.image_mode == 'full') {\n",
       "                // Full images could contain transparency (where diff images\n",
       "                // almost always do), so we need to clear the canvas so that\n",
       "                // there is no ghosting.\n",
       "                fig.context.clearRect(0, 0, fig.canvas.width, fig.canvas.height);\n",
       "            }\n",
       "            fig.context.drawImage(fig.imageObj, 0, 0);\n",
       "        };\n",
       "\n",
       "    this.imageObj.onunload = function() {\n",
       "        fig.ws.close();\n",
       "    }\n",
       "\n",
       "    this.ws.onmessage = this._make_on_message_function(this);\n",
       "\n",
       "    this.ondownload = ondownload;\n",
       "}\n",
       "\n",
       "mpl.figure.prototype._init_header = function() {\n",
       "    var titlebar = $(\n",
       "        '<div class=\"ui-dialog-titlebar ui-widget-header ui-corner-all ' +\n",
       "        'ui-helper-clearfix\"/>');\n",
       "    var titletext = $(\n",
       "        '<div class=\"ui-dialog-title\" style=\"width: 100%; ' +\n",
       "        'text-align: center; padding: 3px;\"/>');\n",
       "    titlebar.append(titletext)\n",
       "    this.root.append(titlebar);\n",
       "    this.header = titletext[0];\n",
       "}\n",
       "\n",
       "\n",
       "\n",
       "mpl.figure.prototype._canvas_extra_style = function(canvas_div) {\n",
       "\n",
       "}\n",
       "\n",
       "\n",
       "mpl.figure.prototype._root_extra_style = function(canvas_div) {\n",
       "\n",
       "}\n",
       "\n",
       "mpl.figure.prototype._init_canvas = function() {\n",
       "    var fig = this;\n",
       "\n",
       "    var canvas_div = $('<div/>');\n",
       "\n",
       "    canvas_div.attr('style', 'position: relative; clear: both; outline: 0');\n",
       "\n",
       "    function canvas_keyboard_event(event) {\n",
       "        return fig.key_event(event, event['data']);\n",
       "    }\n",
       "\n",
       "    canvas_div.keydown('key_press', canvas_keyboard_event);\n",
       "    canvas_div.keyup('key_release', canvas_keyboard_event);\n",
       "    this.canvas_div = canvas_div\n",
       "    this._canvas_extra_style(canvas_div)\n",
       "    this.root.append(canvas_div);\n",
       "\n",
       "    var canvas = $('<canvas/>');\n",
       "    canvas.addClass('mpl-canvas');\n",
       "    canvas.attr('style', \"left: 0; top: 0; z-index: 0; outline: 0\")\n",
       "\n",
       "    this.canvas = canvas[0];\n",
       "    this.context = canvas[0].getContext(\"2d\");\n",
       "\n",
       "    var backingStore = this.context.backingStorePixelRatio ||\n",
       "\tthis.context.webkitBackingStorePixelRatio ||\n",
       "\tthis.context.mozBackingStorePixelRatio ||\n",
       "\tthis.context.msBackingStorePixelRatio ||\n",
       "\tthis.context.oBackingStorePixelRatio ||\n",
       "\tthis.context.backingStorePixelRatio || 1;\n",
       "\n",
       "    mpl.ratio = (window.devicePixelRatio || 1) / backingStore;\n",
       "\n",
       "    var rubberband = $('<canvas/>');\n",
       "    rubberband.attr('style', \"position: absolute; left: 0; top: 0; z-index: 1;\")\n",
       "\n",
       "    var pass_mouse_events = true;\n",
       "\n",
       "    canvas_div.resizable({\n",
       "        start: function(event, ui) {\n",
       "            pass_mouse_events = false;\n",
       "        },\n",
       "        resize: function(event, ui) {\n",
       "            fig.request_resize(ui.size.width, ui.size.height);\n",
       "        },\n",
       "        stop: function(event, ui) {\n",
       "            pass_mouse_events = true;\n",
       "            fig.request_resize(ui.size.width, ui.size.height);\n",
       "        },\n",
       "    });\n",
       "\n",
       "    function mouse_event_fn(event) {\n",
       "        if (pass_mouse_events)\n",
       "            return fig.mouse_event(event, event['data']);\n",
       "    }\n",
       "\n",
       "    rubberband.mousedown('button_press', mouse_event_fn);\n",
       "    rubberband.mouseup('button_release', mouse_event_fn);\n",
       "    // Throttle sequential mouse events to 1 every 20ms.\n",
       "    rubberband.mousemove('motion_notify', mouse_event_fn);\n",
       "\n",
       "    rubberband.mouseenter('figure_enter', mouse_event_fn);\n",
       "    rubberband.mouseleave('figure_leave', mouse_event_fn);\n",
       "\n",
       "    canvas_div.on(\"wheel\", function (event) {\n",
       "        event = event.originalEvent;\n",
       "        event['data'] = 'scroll'\n",
       "        if (event.deltaY < 0) {\n",
       "            event.step = 1;\n",
       "        } else {\n",
       "            event.step = -1;\n",
       "        }\n",
       "        mouse_event_fn(event);\n",
       "    });\n",
       "\n",
       "    canvas_div.append(canvas);\n",
       "    canvas_div.append(rubberband);\n",
       "\n",
       "    this.rubberband = rubberband;\n",
       "    this.rubberband_canvas = rubberband[0];\n",
       "    this.rubberband_context = rubberband[0].getContext(\"2d\");\n",
       "    this.rubberband_context.strokeStyle = \"#000000\";\n",
       "\n",
       "    this._resize_canvas = function(width, height) {\n",
       "        // Keep the size of the canvas, canvas container, and rubber band\n",
       "        // canvas in synch.\n",
       "        canvas_div.css('width', width)\n",
       "        canvas_div.css('height', height)\n",
       "\n",
       "        canvas.attr('width', width * mpl.ratio);\n",
       "        canvas.attr('height', height * mpl.ratio);\n",
       "        canvas.attr('style', 'width: ' + width + 'px; height: ' + height + 'px;');\n",
       "\n",
       "        rubberband.attr('width', width);\n",
       "        rubberband.attr('height', height);\n",
       "    }\n",
       "\n",
       "    // Set the figure to an initial 600x600px, this will subsequently be updated\n",
       "    // upon first draw.\n",
       "    this._resize_canvas(600, 600);\n",
       "\n",
       "    // Disable right mouse context menu.\n",
       "    $(this.rubberband_canvas).bind(\"contextmenu\",function(e){\n",
       "        return false;\n",
       "    });\n",
       "\n",
       "    function set_focus () {\n",
       "        canvas.focus();\n",
       "        canvas_div.focus();\n",
       "    }\n",
       "\n",
       "    window.setTimeout(set_focus, 100);\n",
       "}\n",
       "\n",
       "mpl.figure.prototype._init_toolbar = function() {\n",
       "    var fig = this;\n",
       "\n",
       "    var nav_element = $('<div/>')\n",
       "    nav_element.attr('style', 'width: 100%');\n",
       "    this.root.append(nav_element);\n",
       "\n",
       "    // Define a callback function for later on.\n",
       "    function toolbar_event(event) {\n",
       "        return fig.toolbar_button_onclick(event['data']);\n",
       "    }\n",
       "    function toolbar_mouse_event(event) {\n",
       "        return fig.toolbar_button_onmouseover(event['data']);\n",
       "    }\n",
       "\n",
       "    for(var toolbar_ind in mpl.toolbar_items) {\n",
       "        var name = mpl.toolbar_items[toolbar_ind][0];\n",
       "        var tooltip = mpl.toolbar_items[toolbar_ind][1];\n",
       "        var image = mpl.toolbar_items[toolbar_ind][2];\n",
       "        var method_name = mpl.toolbar_items[toolbar_ind][3];\n",
       "\n",
       "        if (!name) {\n",
       "            // put a spacer in here.\n",
       "            continue;\n",
       "        }\n",
       "        var button = $('<button/>');\n",
       "        button.addClass('ui-button ui-widget ui-state-default ui-corner-all ' +\n",
       "                        'ui-button-icon-only');\n",
       "        button.attr('role', 'button');\n",
       "        button.attr('aria-disabled', 'false');\n",
       "        button.click(method_name, toolbar_event);\n",
       "        button.mouseover(tooltip, toolbar_mouse_event);\n",
       "\n",
       "        var icon_img = $('<span/>');\n",
       "        icon_img.addClass('ui-button-icon-primary ui-icon');\n",
       "        icon_img.addClass(image);\n",
       "        icon_img.addClass('ui-corner-all');\n",
       "\n",
       "        var tooltip_span = $('<span/>');\n",
       "        tooltip_span.addClass('ui-button-text');\n",
       "        tooltip_span.html(tooltip);\n",
       "\n",
       "        button.append(icon_img);\n",
       "        button.append(tooltip_span);\n",
       "\n",
       "        nav_element.append(button);\n",
       "    }\n",
       "\n",
       "    var fmt_picker_span = $('<span/>');\n",
       "\n",
       "    var fmt_picker = $('<select/>');\n",
       "    fmt_picker.addClass('mpl-toolbar-option ui-widget ui-widget-content');\n",
       "    fmt_picker_span.append(fmt_picker);\n",
       "    nav_element.append(fmt_picker_span);\n",
       "    this.format_dropdown = fmt_picker[0];\n",
       "\n",
       "    for (var ind in mpl.extensions) {\n",
       "        var fmt = mpl.extensions[ind];\n",
       "        var option = $(\n",
       "            '<option/>', {selected: fmt === mpl.default_extension}).html(fmt);\n",
       "        fmt_picker.append(option)\n",
       "    }\n",
       "\n",
       "    // Add hover states to the ui-buttons\n",
       "    $( \".ui-button\" ).hover(\n",
       "        function() { $(this).addClass(\"ui-state-hover\");},\n",
       "        function() { $(this).removeClass(\"ui-state-hover\");}\n",
       "    );\n",
       "\n",
       "    var status_bar = $('<span class=\"mpl-message\"/>');\n",
       "    nav_element.append(status_bar);\n",
       "    this.message = status_bar[0];\n",
       "}\n",
       "\n",
       "mpl.figure.prototype.request_resize = function(x_pixels, y_pixels) {\n",
       "    // Request matplotlib to resize the figure. Matplotlib will then trigger a resize in the client,\n",
       "    // which will in turn request a refresh of the image.\n",
       "    this.send_message('resize', {'width': x_pixels, 'height': y_pixels});\n",
       "}\n",
       "\n",
       "mpl.figure.prototype.send_message = function(type, properties) {\n",
       "    properties['type'] = type;\n",
       "    properties['figure_id'] = this.id;\n",
       "    this.ws.send(JSON.stringify(properties));\n",
       "}\n",
       "\n",
       "mpl.figure.prototype.send_draw_message = function() {\n",
       "    if (!this.waiting) {\n",
       "        this.waiting = true;\n",
       "        this.ws.send(JSON.stringify({type: \"draw\", figure_id: this.id}));\n",
       "    }\n",
       "}\n",
       "\n",
       "\n",
       "mpl.figure.prototype.handle_save = function(fig, msg) {\n",
       "    var format_dropdown = fig.format_dropdown;\n",
       "    var format = format_dropdown.options[format_dropdown.selectedIndex].value;\n",
       "    fig.ondownload(fig, format);\n",
       "}\n",
       "\n",
       "\n",
       "mpl.figure.prototype.handle_resize = function(fig, msg) {\n",
       "    var size = msg['size'];\n",
       "    if (size[0] != fig.canvas.width || size[1] != fig.canvas.height) {\n",
       "        fig._resize_canvas(size[0], size[1]);\n",
       "        fig.send_message(\"refresh\", {});\n",
       "    };\n",
       "}\n",
       "\n",
       "mpl.figure.prototype.handle_rubberband = function(fig, msg) {\n",
       "    var x0 = msg['x0'] / mpl.ratio;\n",
       "    var y0 = (fig.canvas.height - msg['y0']) / mpl.ratio;\n",
       "    var x1 = msg['x1'] / mpl.ratio;\n",
       "    var y1 = (fig.canvas.height - msg['y1']) / mpl.ratio;\n",
       "    x0 = Math.floor(x0) + 0.5;\n",
       "    y0 = Math.floor(y0) + 0.5;\n",
       "    x1 = Math.floor(x1) + 0.5;\n",
       "    y1 = Math.floor(y1) + 0.5;\n",
       "    var min_x = Math.min(x0, x1);\n",
       "    var min_y = Math.min(y0, y1);\n",
       "    var width = Math.abs(x1 - x0);\n",
       "    var height = Math.abs(y1 - y0);\n",
       "\n",
       "    fig.rubberband_context.clearRect(\n",
       "        0, 0, fig.canvas.width, fig.canvas.height);\n",
       "\n",
       "    fig.rubberband_context.strokeRect(min_x, min_y, width, height);\n",
       "}\n",
       "\n",
       "mpl.figure.prototype.handle_figure_label = function(fig, msg) {\n",
       "    // Updates the figure title.\n",
       "    fig.header.textContent = msg['label'];\n",
       "}\n",
       "\n",
       "mpl.figure.prototype.handle_cursor = function(fig, msg) {\n",
       "    var cursor = msg['cursor'];\n",
       "    switch(cursor)\n",
       "    {\n",
       "    case 0:\n",
       "        cursor = 'pointer';\n",
       "        break;\n",
       "    case 1:\n",
       "        cursor = 'default';\n",
       "        break;\n",
       "    case 2:\n",
       "        cursor = 'crosshair';\n",
       "        break;\n",
       "    case 3:\n",
       "        cursor = 'move';\n",
       "        break;\n",
       "    }\n",
       "    fig.rubberband_canvas.style.cursor = cursor;\n",
       "}\n",
       "\n",
       "mpl.figure.prototype.handle_message = function(fig, msg) {\n",
       "    fig.message.textContent = msg['message'];\n",
       "}\n",
       "\n",
       "mpl.figure.prototype.handle_draw = function(fig, msg) {\n",
       "    // Request the server to send over a new figure.\n",
       "    fig.send_draw_message();\n",
       "}\n",
       "\n",
       "mpl.figure.prototype.handle_image_mode = function(fig, msg) {\n",
       "    fig.image_mode = msg['mode'];\n",
       "}\n",
       "\n",
       "mpl.figure.prototype.updated_canvas_event = function() {\n",
       "    // Called whenever the canvas gets updated.\n",
       "    this.send_message(\"ack\", {});\n",
       "}\n",
       "\n",
       "// A function to construct a web socket function for onmessage handling.\n",
       "// Called in the figure constructor.\n",
       "mpl.figure.prototype._make_on_message_function = function(fig) {\n",
       "    return function socket_on_message(evt) {\n",
       "        if (evt.data instanceof Blob) {\n",
       "            /* FIXME: We get \"Resource interpreted as Image but\n",
       "             * transferred with MIME type text/plain:\" errors on\n",
       "             * Chrome.  But how to set the MIME type?  It doesn't seem\n",
       "             * to be part of the websocket stream */\n",
       "            evt.data.type = \"image/png\";\n",
       "\n",
       "            /* Free the memory for the previous frames */\n",
       "            if (fig.imageObj.src) {\n",
       "                (window.URL || window.webkitURL).revokeObjectURL(\n",
       "                    fig.imageObj.src);\n",
       "            }\n",
       "\n",
       "            fig.imageObj.src = (window.URL || window.webkitURL).createObjectURL(\n",
       "                evt.data);\n",
       "            fig.updated_canvas_event();\n",
       "            fig.waiting = false;\n",
       "            return;\n",
       "        }\n",
       "        else if (typeof evt.data === 'string' && evt.data.slice(0, 21) == \"data:image/png;base64\") {\n",
       "            fig.imageObj.src = evt.data;\n",
       "            fig.updated_canvas_event();\n",
       "            fig.waiting = false;\n",
       "            return;\n",
       "        }\n",
       "\n",
       "        var msg = JSON.parse(evt.data);\n",
       "        var msg_type = msg['type'];\n",
       "\n",
       "        // Call the  \"handle_{type}\" callback, which takes\n",
       "        // the figure and JSON message as its only arguments.\n",
       "        try {\n",
       "            var callback = fig[\"handle_\" + msg_type];\n",
       "        } catch (e) {\n",
       "            console.log(\"No handler for the '\" + msg_type + \"' message type: \", msg);\n",
       "            return;\n",
       "        }\n",
       "\n",
       "        if (callback) {\n",
       "            try {\n",
       "                // console.log(\"Handling '\" + msg_type + \"' message: \", msg);\n",
       "                callback(fig, msg);\n",
       "            } catch (e) {\n",
       "                console.log(\"Exception inside the 'handler_\" + msg_type + \"' callback:\", e, e.stack, msg);\n",
       "            }\n",
       "        }\n",
       "    };\n",
       "}\n",
       "\n",
       "// from http://stackoverflow.com/questions/1114465/getting-mouse-location-in-canvas\n",
       "mpl.findpos = function(e) {\n",
       "    //this section is from http://www.quirksmode.org/js/events_properties.html\n",
       "    var targ;\n",
       "    if (!e)\n",
       "        e = window.event;\n",
       "    if (e.target)\n",
       "        targ = e.target;\n",
       "    else if (e.srcElement)\n",
       "        targ = e.srcElement;\n",
       "    if (targ.nodeType == 3) // defeat Safari bug\n",
       "        targ = targ.parentNode;\n",
       "\n",
       "    // jQuery normalizes the pageX and pageY\n",
       "    // pageX,Y are the mouse positions relative to the document\n",
       "    // offset() returns the position of the element relative to the document\n",
       "    var x = e.pageX - $(targ).offset().left;\n",
       "    var y = e.pageY - $(targ).offset().top;\n",
       "\n",
       "    return {\"x\": x, \"y\": y};\n",
       "};\n",
       "\n",
       "/*\n",
       " * return a copy of an object with only non-object keys\n",
       " * we need this to avoid circular references\n",
       " * http://stackoverflow.com/a/24161582/3208463\n",
       " */\n",
       "function simpleKeys (original) {\n",
       "  return Object.keys(original).reduce(function (obj, key) {\n",
       "    if (typeof original[key] !== 'object')\n",
       "        obj[key] = original[key]\n",
       "    return obj;\n",
       "  }, {});\n",
       "}\n",
       "\n",
       "mpl.figure.prototype.mouse_event = function(event, name) {\n",
       "    var canvas_pos = mpl.findpos(event)\n",
       "\n",
       "    if (name === 'button_press')\n",
       "    {\n",
       "        this.canvas.focus();\n",
       "        this.canvas_div.focus();\n",
       "    }\n",
       "\n",
       "    var x = canvas_pos.x * mpl.ratio;\n",
       "    var y = canvas_pos.y * mpl.ratio;\n",
       "\n",
       "    this.send_message(name, {x: x, y: y, button: event.button,\n",
       "                             step: event.step,\n",
       "                             guiEvent: simpleKeys(event)});\n",
       "\n",
       "    /* This prevents the web browser from automatically changing to\n",
       "     * the text insertion cursor when the button is pressed.  We want\n",
       "     * to control all of the cursor setting manually through the\n",
       "     * 'cursor' event from matplotlib */\n",
       "    event.preventDefault();\n",
       "    return false;\n",
       "}\n",
       "\n",
       "mpl.figure.prototype._key_event_extra = function(event, name) {\n",
       "    // Handle any extra behaviour associated with a key event\n",
       "}\n",
       "\n",
       "mpl.figure.prototype.key_event = function(event, name) {\n",
       "\n",
       "    // Prevent repeat events\n",
       "    if (name == 'key_press')\n",
       "    {\n",
       "        if (event.which === this._key)\n",
       "            return;\n",
       "        else\n",
       "            this._key = event.which;\n",
       "    }\n",
       "    if (name == 'key_release')\n",
       "        this._key = null;\n",
       "\n",
       "    var value = '';\n",
       "    if (event.ctrlKey && event.which != 17)\n",
       "        value += \"ctrl+\";\n",
       "    if (event.altKey && event.which != 18)\n",
       "        value += \"alt+\";\n",
       "    if (event.shiftKey && event.which != 16)\n",
       "        value += \"shift+\";\n",
       "\n",
       "    value += 'k';\n",
       "    value += event.which.toString();\n",
       "\n",
       "    this._key_event_extra(event, name);\n",
       "\n",
       "    this.send_message(name, {key: value,\n",
       "                             guiEvent: simpleKeys(event)});\n",
       "    return false;\n",
       "}\n",
       "\n",
       "mpl.figure.prototype.toolbar_button_onclick = function(name) {\n",
       "    if (name == 'download') {\n",
       "        this.handle_save(this, null);\n",
       "    } else {\n",
       "        this.send_message(\"toolbar_button\", {name: name});\n",
       "    }\n",
       "};\n",
       "\n",
       "mpl.figure.prototype.toolbar_button_onmouseover = function(tooltip) {\n",
       "    this.message.textContent = tooltip;\n",
       "};\n",
       "mpl.toolbar_items = [[\"Home\", \"Reset original view\", \"fa fa-home icon-home\", \"home\"], [\"Back\", \"Back to previous view\", \"fa fa-arrow-left icon-arrow-left\", \"back\"], [\"Forward\", \"Forward to next view\", \"fa fa-arrow-right icon-arrow-right\", \"forward\"], [\"\", \"\", \"\", \"\"], [\"Pan\", \"Pan axes with left mouse, zoom with right\", \"fa fa-arrows icon-move\", \"pan\"], [\"Zoom\", \"Zoom to rectangle\", \"fa fa-square-o icon-check-empty\", \"zoom\"], [\"\", \"\", \"\", \"\"], [\"Download\", \"Download plot\", \"fa fa-floppy-o icon-save\", \"download\"]];\n",
       "\n",
       "mpl.extensions = [\"eps\", \"jpeg\", \"pdf\", \"png\", \"ps\", \"raw\", \"svg\", \"tif\"];\n",
       "\n",
       "mpl.default_extension = \"png\";var comm_websocket_adapter = function(comm) {\n",
       "    // Create a \"websocket\"-like object which calls the given IPython comm\n",
       "    // object with the appropriate methods. Currently this is a non binary\n",
       "    // socket, so there is still some room for performance tuning.\n",
       "    var ws = {};\n",
       "\n",
       "    ws.close = function() {\n",
       "        comm.close()\n",
       "    };\n",
       "    ws.send = function(m) {\n",
       "        //console.log('sending', m);\n",
       "        comm.send(m);\n",
       "    };\n",
       "    // Register the callback with on_msg.\n",
       "    comm.on_msg(function(msg) {\n",
       "        //console.log('receiving', msg['content']['data'], msg);\n",
       "        // Pass the mpl event to the overridden (by mpl) onmessage function.\n",
       "        ws.onmessage(msg['content']['data'])\n",
       "    });\n",
       "    return ws;\n",
       "}\n",
       "\n",
       "mpl.mpl_figure_comm = function(comm, msg) {\n",
       "    // This is the function which gets called when the mpl process\n",
       "    // starts-up an IPython Comm through the \"matplotlib\" channel.\n",
       "\n",
       "    var id = msg.content.data.id;\n",
       "    // Get hold of the div created by the display call when the Comm\n",
       "    // socket was opened in Python.\n",
       "    var element = $(\"#\" + id);\n",
       "    var ws_proxy = comm_websocket_adapter(comm)\n",
       "\n",
       "    function ondownload(figure, format) {\n",
       "        window.open(figure.imageObj.src);\n",
       "    }\n",
       "\n",
       "    var fig = new mpl.figure(id, ws_proxy,\n",
       "                           ondownload,\n",
       "                           element.get(0));\n",
       "\n",
       "    // Call onopen now - mpl needs it, as it is assuming we've passed it a real\n",
       "    // web socket which is closed, not our websocket->open comm proxy.\n",
       "    ws_proxy.onopen();\n",
       "\n",
       "    fig.parent_element = element.get(0);\n",
       "    fig.cell_info = mpl.find_output_cell(\"<div id='\" + id + \"'></div>\");\n",
       "    if (!fig.cell_info) {\n",
       "        console.error(\"Failed to find cell for figure\", id, fig);\n",
       "        return;\n",
       "    }\n",
       "\n",
       "    var output_index = fig.cell_info[2]\n",
       "    var cell = fig.cell_info[0];\n",
       "\n",
       "};\n",
       "\n",
       "mpl.figure.prototype.handle_close = function(fig, msg) {\n",
       "    var width = fig.canvas.width/mpl.ratio\n",
       "    fig.root.unbind('remove')\n",
       "\n",
       "    // Update the output cell to use the data from the current canvas.\n",
       "    fig.push_to_output();\n",
       "    var dataURL = fig.canvas.toDataURL();\n",
       "    // Re-enable the keyboard manager in IPython - without this line, in FF,\n",
       "    // the notebook keyboard shortcuts fail.\n",
       "    IPython.keyboard_manager.enable()\n",
       "    $(fig.parent_element).html('<img src=\"' + dataURL + '\" width=\"' + width + '\">');\n",
       "    fig.close_ws(fig, msg);\n",
       "}\n",
       "\n",
       "mpl.figure.prototype.close_ws = function(fig, msg){\n",
       "    fig.send_message('closing', msg);\n",
       "    // fig.ws.close()\n",
       "}\n",
       "\n",
       "mpl.figure.prototype.push_to_output = function(remove_interactive) {\n",
       "    // Turn the data on the canvas into data in the output cell.\n",
       "    var width = this.canvas.width/mpl.ratio\n",
       "    var dataURL = this.canvas.toDataURL();\n",
       "    this.cell_info[1]['text/html'] = '<img src=\"' + dataURL + '\" width=\"' + width + '\">';\n",
       "}\n",
       "\n",
       "mpl.figure.prototype.updated_canvas_event = function() {\n",
       "    // Tell IPython that the notebook contents must change.\n",
       "    IPython.notebook.set_dirty(true);\n",
       "    this.send_message(\"ack\", {});\n",
       "    var fig = this;\n",
       "    // Wait a second, then push the new image to the DOM so\n",
       "    // that it is saved nicely (might be nice to debounce this).\n",
       "    setTimeout(function () { fig.push_to_output() }, 1000);\n",
       "}\n",
       "\n",
       "mpl.figure.prototype._init_toolbar = function() {\n",
       "    var fig = this;\n",
       "\n",
       "    var nav_element = $('<div/>')\n",
       "    nav_element.attr('style', 'width: 100%');\n",
       "    this.root.append(nav_element);\n",
       "\n",
       "    // Define a callback function for later on.\n",
       "    function toolbar_event(event) {\n",
       "        return fig.toolbar_button_onclick(event['data']);\n",
       "    }\n",
       "    function toolbar_mouse_event(event) {\n",
       "        return fig.toolbar_button_onmouseover(event['data']);\n",
       "    }\n",
       "\n",
       "    for(var toolbar_ind in mpl.toolbar_items){\n",
       "        var name = mpl.toolbar_items[toolbar_ind][0];\n",
       "        var tooltip = mpl.toolbar_items[toolbar_ind][1];\n",
       "        var image = mpl.toolbar_items[toolbar_ind][2];\n",
       "        var method_name = mpl.toolbar_items[toolbar_ind][3];\n",
       "\n",
       "        if (!name) { continue; };\n",
       "\n",
       "        var button = $('<button class=\"btn btn-default\" href=\"#\" title=\"' + name + '\"><i class=\"fa ' + image + ' fa-lg\"></i></button>');\n",
       "        button.click(method_name, toolbar_event);\n",
       "        button.mouseover(tooltip, toolbar_mouse_event);\n",
       "        nav_element.append(button);\n",
       "    }\n",
       "\n",
       "    // Add the status bar.\n",
       "    var status_bar = $('<span class=\"mpl-message\" style=\"text-align:right; float: right;\"/>');\n",
       "    nav_element.append(status_bar);\n",
       "    this.message = status_bar[0];\n",
       "\n",
       "    // Add the close button to the window.\n",
       "    var buttongrp = $('<div class=\"btn-group inline pull-right\"></div>');\n",
       "    var button = $('<button class=\"btn btn-mini btn-primary\" href=\"#\" title=\"Stop Interaction\"><i class=\"fa fa-power-off icon-remove icon-large\"></i></button>');\n",
       "    button.click(function (evt) { fig.handle_close(fig, {}); } );\n",
       "    button.mouseover('Stop Interaction', toolbar_mouse_event);\n",
       "    buttongrp.append(button);\n",
       "    var titlebar = this.root.find($('.ui-dialog-titlebar'));\n",
       "    titlebar.prepend(buttongrp);\n",
       "}\n",
       "\n",
       "mpl.figure.prototype._root_extra_style = function(el){\n",
       "    var fig = this\n",
       "    el.on(\"remove\", function(){\n",
       "\tfig.close_ws(fig, {});\n",
       "    });\n",
       "}\n",
       "\n",
       "mpl.figure.prototype._canvas_extra_style = function(el){\n",
       "    // this is important to make the div 'focusable\n",
       "    el.attr('tabindex', 0)\n",
       "    // reach out to IPython and tell the keyboard manager to turn it's self\n",
       "    // off when our div gets focus\n",
       "\n",
       "    // location in version 3\n",
       "    if (IPython.notebook.keyboard_manager) {\n",
       "        IPython.notebook.keyboard_manager.register_events(el);\n",
       "    }\n",
       "    else {\n",
       "        // location in version 2\n",
       "        IPython.keyboard_manager.register_events(el);\n",
       "    }\n",
       "\n",
       "}\n",
       "\n",
       "mpl.figure.prototype._key_event_extra = function(event, name) {\n",
       "    var manager = IPython.notebook.keyboard_manager;\n",
       "    if (!manager)\n",
       "        manager = IPython.keyboard_manager;\n",
       "\n",
       "    // Check for shift+enter\n",
       "    if (event.shiftKey && event.which == 13) {\n",
       "        this.canvas_div.blur();\n",
       "        event.shiftKey = false;\n",
       "        // Send a \"J\" for go to next cell\n",
       "        event.which = 74;\n",
       "        event.keyCode = 74;\n",
       "        manager.command_mode();\n",
       "        manager.handle_keydown(event);\n",
       "    }\n",
       "}\n",
       "\n",
       "mpl.figure.prototype.handle_save = function(fig, msg) {\n",
       "    fig.ondownload(fig, null);\n",
       "}\n",
       "\n",
       "\n",
       "mpl.find_output_cell = function(html_output) {\n",
       "    // Return the cell and output element which can be found *uniquely* in the notebook.\n",
       "    // Note - this is a bit hacky, but it is done because the \"notebook_saving.Notebook\"\n",
       "    // IPython event is triggered only after the cells have been serialised, which for\n",
       "    // our purposes (turning an active figure into a static one), is too late.\n",
       "    var cells = IPython.notebook.get_cells();\n",
       "    var ncells = cells.length;\n",
       "    for (var i=0; i<ncells; i++) {\n",
       "        var cell = cells[i];\n",
       "        if (cell.cell_type === 'code'){\n",
       "            for (var j=0; j<cell.output_area.outputs.length; j++) {\n",
       "                var data = cell.output_area.outputs[j];\n",
       "                if (data.data) {\n",
       "                    // IPython >= 3 moved mimebundle to data attribute of output\n",
       "                    data = data.data;\n",
       "                }\n",
       "                if (data['text/html'] == html_output) {\n",
       "                    return [cell, data, j];\n",
       "                }\n",
       "            }\n",
       "        }\n",
       "    }\n",
       "}\n",
       "\n",
       "// Register the function which deals with the matplotlib target/channel.\n",
       "// The kernel may be null if the page has been refreshed.\n",
       "if (IPython.notebook.kernel != null) {\n",
       "    IPython.notebook.kernel.comm_manager.register_target('matplotlib', mpl.mpl_figure_comm);\n",
       "}\n"
      ],
      "text/plain": [
       "<IPython.core.display.Javascript object>"
      ]
     },
     "metadata": {},
     "output_type": "display_data"
    },
    {
     "data": {
      "text/html": [
       "<img src=\"data:image/png;base64,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\" width=\"640\">"
      ],
      "text/plain": [
       "<IPython.core.display.HTML object>"
      ]
     },
     "metadata": {},
     "output_type": "display_data"
    },
    {
     "data": {
      "text/plain": [
       "Text(0, 0.5, 'Current (A)')"
      ]
     },
     "execution_count": 616,
     "metadata": {},
     "output_type": "execute_result"
    }
   ],
   "source": [
    "fig = plt.figure()\n",
    "ax = fig.add_subplot(111)\n",
    "ax.set_title('J-V Curve')\n",
    "ax.plot(Vin,Iout)\n",
    "ax.axhline(y=0, color='k')\n",
    "ax.axvline(x=0, color='k')\n",
    "ax.set_xlabel('Voltage (V)')\n",
    "ax.set_ylabel('Current (A)')"
   ]
  },
  {
   "cell_type": "code",
   "execution_count": 509,
   "metadata": {},
   "outputs": [
    {
     "data": {
      "text/plain": [
       "10068.41589283339"
      ]
     },
     "execution_count": 509,
     "metadata": {},
     "output_type": "execute_result"
    }
   ],
   "source": [
    "Vin[1]/float(Iout[1])"
   ]
  },
  {
   "cell_type": "code",
   "execution_count": 510,
   "metadata": {},
   "outputs": [
    {
     "data": {
      "text/plain": [
       "-0.0"
      ]
     },
     "execution_count": 510,
     "metadata": {},
     "output_type": "execute_result"
    }
   ],
   "source": [
    "Vin[0]/float(Iout[0])"
   ]
  },
  {
   "cell_type": "code",
   "execution_count": 511,
   "metadata": {},
   "outputs": [
    {
     "data": {
      "text/plain": [
       "9974.482878919833"
      ]
     },
     "execution_count": 511,
     "metadata": {},
     "output_type": "execute_result"
    }
   ],
   "source": [
    "n=5\n",
    "Vin[n]/float(Iout[n])"
   ]
  },
  {
   "cell_type": "code",
   "execution_count": 617,
   "metadata": {},
   "outputs": [],
   "source": [
    "\n",
    "V=list(Vin)\n",
    "V.insert(0,'V')\n",
    "V\n",
    "with open('jv_device2p2dark.csv', 'w', newline='') as csvfile:\n",
    "    spamwriter = csv.writer(csvfile, delimiter=',',\n",
    "                            quotechar='|', quoting=csv.QUOTE_MINIMAL)\n",
    "    \n",
    "    V=list(Vin)\n",
    "    V.insert(0,'V')\n",
    "    I=list(Iout)\n",
    "    I.insert(0,'I')\n",
    "    spamwriter.writerow(V)\n",
    "    spamwriter.writerow(Iout)\n",
    "\n"
   ]
  },
  {
   "cell_type": "code",
   "execution_count": 431,
   "metadata": {},
   "outputs": [],
   "source": [
    "a=[(Vin[i], Iout[i]) for i in range(len(Iout))]"
   ]
  },
  {
   "cell_type": "code",
   "execution_count": 533,
   "metadata": {},
   "outputs": [],
   "source": [
    "temp=list(Vin).insert(0,'V')\n",
    "temp\n",
    "a=None"
   ]
  },
  {
   "cell_type": "code",
   "execution_count": 542,
   "metadata": {},
   "outputs": [],
   "source": [
    "a=list(Vin)"
   ]
  },
  {
   "cell_type": "code",
   "execution_count": 543,
   "metadata": {},
   "outputs": [],
   "source": [
    "a.insert(0,'V')"
   ]
  },
  {
   "cell_type": "code",
   "execution_count": 544,
   "metadata": {},
   "outputs": [
    {
     "data": {
      "text/plain": [
       "['V',\n",
       " 0.0,\n",
       " 0.1111111111111111,\n",
       " 0.2222222222222222,\n",
       " 0.3333333333333333,\n",
       " 0.4444444444444444,\n",
       " 0.5555555555555556,\n",
       " 0.6666666666666666,\n",
       " 0.7777777777777777,\n",
       " 0.8888888888888888,\n",
       " 1.0]"
      ]
     },
     "execution_count": 544,
     "metadata": {},
     "output_type": "execute_result"
    }
   ],
   "source": [
    "a"
   ]
  },
  {
   "cell_type": "code",
   "execution_count": 474,
   "metadata": {},
   "outputs": [],
   "source": [
    "c.extend([1, 2])"
   ]
  },
  {
   "cell_type": "code",
   "execution_count": 562,
   "metadata": {},
   "outputs": [
    {
     "data": {
      "text/plain": [
       "['-9.404010E-02',\n",
       " '-9.325577E-02',\n",
       " '-9.174712E-02',\n",
       " '-9.012598E-02',\n",
       " '-8.839934E-02',\n",
       " '-8.671160E-02',\n",
       " '-8.496688E-02',\n",
       " '-8.314601E-02',\n",
       " '-8.128849E-02',\n",
       " '-7.950284E-02',\n",
       " '-7.770754E-02',\n",
       " '-7.589940E-02',\n",
       " '-7.408451E-02',\n",
       " '-7.222687E-02',\n",
       " '-7.036502E-02',\n",
       " '-6.854186E-02',\n",
       " '-6.672127E-02',\n",
       " '-6.485385E-02',\n",
       " '-6.302589E-02',\n",
       " '-6.121307E-02',\n",
       " '-5.938043E-02',\n",
       " '-5.752924E-02',\n",
       " '-5.569560E-02',\n",
       " '-5.386540E-02',\n",
       " '-5.204662E-02',\n",
       " '-5.021899E-02',\n",
       " '-4.840621E-02',\n",
       " '-4.659544E-02',\n",
       " '-4.478412E-02',\n",
       " '-4.297141E-02',\n",
       " '-4.116474E-02',\n",
       " '-3.936588E-02',\n",
       " '-3.756579E-02',\n",
       " '-3.576708E-02',\n",
       " '-3.396973E-02',\n",
       " '-3.217757E-02',\n",
       " '-3.038801E-02',\n",
       " '-2.860457E-02',\n",
       " '-2.681722E-02',\n",
       " '-2.503894E-02',\n",
       " '-2.326548E-02',\n",
       " '-2.149510E-02',\n",
       " '-1.972601E-02',\n",
       " '-1.795846E-02',\n",
       " '-1.619365E-02',\n",
       " '-1.443052E-02',\n",
       " '-1.266967E-02',\n",
       " '-1.090925E-02',\n",
       " '-9.149536E-03',\n",
       " '-7.390227E-03',\n",
       " '-5.645151E-03',\n",
       " '-3.888398E-03',\n",
       " '-2.131625E-03',\n",
       " '-3.733832E-04',\n",
       " '+1.384394E-03',\n",
       " '+3.140495E-03',\n",
       " '+4.898276E-03',\n",
       " '+6.654465E-03',\n",
       " '+8.414563E-03',\n",
       " '+1.016646E-02',\n",
       " '+1.190717E-02',\n",
       " '+1.366096E-02',\n",
       " '+1.540890E-02',\n",
       " '+1.717823E-02',\n",
       " '+1.892692E-02',\n",
       " '+2.067709E-02',\n",
       " '+2.242440E-02',\n",
       " '+2.416502E-02',\n",
       " '+2.590358E-02',\n",
       " '+2.764222E-02',\n",
       " '+2.939027E-02',\n",
       " '+3.112918E-02',\n",
       " '+3.286815E-02',\n",
       " '+3.460515E-02',\n",
       " '+3.634461E-02',\n",
       " '+3.808634E-02',\n",
       " '+3.981995E-02',\n",
       " '+4.155734E-02',\n",
       " '+4.329382E-02',\n",
       " '+4.503256E-02',\n",
       " '+4.676681E-02',\n",
       " '+4.850136E-02',\n",
       " '+5.023560E-02',\n",
       " '+5.197345E-02',\n",
       " '+5.370545E-02',\n",
       " '+5.542246E-02',\n",
       " '+5.715770E-02',\n",
       " '+5.889726E-02',\n",
       " '+6.062629E-02',\n",
       " '+6.235898E-02',\n",
       " '+6.408804E-02',\n",
       " '+6.582359E-02',\n",
       " '+6.755760E-02',\n",
       " '+6.926566E-02',\n",
       " '+7.095566E-02',\n",
       " '+7.249334E-02',\n",
       " '+7.414777E-02',\n",
       " '+7.587092E-02',\n",
       " '+7.762103E-02',\n",
       " '+7.934362E-02']"
      ]
     },
     "execution_count": 562,
     "metadata": {},
     "output_type": "execute_result"
    }
   ],
   "source": [
    "Iout"
   ]
  },
  {
   "cell_type": "code",
   "execution_count": 477,
   "metadata": {},
   "outputs": [],
   "source": [
    "d=['Vin']"
   ]
  },
  {
   "cell_type": "code",
   "execution_count": 478,
   "metadata": {},
   "outputs": [],
   "source": [
    "d.extend([1, 2])"
   ]
  },
  {
   "cell_type": "code",
   "execution_count": 479,
   "metadata": {},
   "outputs": [
    {
     "data": {
      "text/plain": [
       "['Vin', 1, 2]"
      ]
     },
     "execution_count": 479,
     "metadata": {},
     "output_type": "execute_result"
    }
   ],
   "source": [
    "d"
   ]
  },
  {
   "cell_type": "code",
   "execution_count": 484,
   "metadata": {},
   "outputs": [],
   "source": [
    "Iout.insert(0,'I')"
   ]
  },
  {
   "cell_type": "code",
   "execution_count": 485,
   "metadata": {},
   "outputs": [
    {
     "data": {
      "text/plain": [
       "['I',\n",
       " -1.145887e-07,\n",
       " 1.103511e-05,\n",
       " 2.217979e-05,\n",
       " 3.340439e-05,\n",
       " 4.453399e-05,\n",
       " 5.570077e-05,\n",
       " 6.682133e-05,\n",
       " 7.805849e-05,\n",
       " 8.918964e-05,\n",
       " 0.0001003584]"
      ]
     },
     "execution_count": 485,
     "metadata": {},
     "output_type": "execute_result"
    }
   ],
   "source": [
    "Iout"
   ]
  },
  {
   "cell_type": "code",
   "execution_count": 491,
   "metadata": {},
   "outputs": [],
   "source": [
    "Iout=Iout[1:0]"
   ]
  },
  {
   "cell_type": "code",
   "execution_count": 501,
   "metadata": {},
   "outputs": [],
   "source": [
    "a = list(np.linspace(1,10,10))"
   ]
  },
  {
   "cell_type": "code",
   "execution_count": 502,
   "metadata": {},
   "outputs": [
    {
     "data": {
      "text/plain": [
       "[1.0, 2.0, 3.0, 4.0, 5.0, 6.0, 7.0, 8.0, 9.0, 10.0]"
      ]
     },
     "execution_count": 502,
     "metadata": {},
     "output_type": "execute_result"
    }
   ],
   "source": [
    "a"
   ]
  },
  {
   "cell_type": "code",
   "execution_count": 505,
   "metadata": {},
   "outputs": [
    {
     "data": {
      "text/plain": [
       "[2.0, 3.0, 4.0, 5.0, 6.0, 7.0, 8.0, 9.0, 10.0]"
      ]
     },
     "execution_count": 505,
     "metadata": {},
     "output_type": "execute_result"
    }
   ],
   "source": [
    "a[1:]"
   ]
  },
  {
   "cell_type": "code",
   "execution_count": null,
   "metadata": {},
   "outputs": [],
   "source": []
  }
 ],
 "metadata": {
  "kernelspec": {
   "display_name": "Python 3",
   "language": "python",
   "name": "python3"
  },
  "language_info": {
   "codemirror_mode": {
    "name": "ipython",
    "version": 3
   },
   "file_extension": ".py",
   "mimetype": "text/x-python",
   "name": "python",
   "nbconvert_exporter": "python",
   "pygments_lexer": "ipython3",
   "version": "3.7.3"
  }
 },
 "nbformat": 4,
 "nbformat_minor": 2
}
